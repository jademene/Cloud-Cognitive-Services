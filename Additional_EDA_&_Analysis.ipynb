{
  "nbformat": 4,
  "nbformat_minor": 0,
  "metadata": {
    "colab": {
      "provenance": [],
      "collapsed_sections": [
        "64LRFB5HA-ej",
        "jpZQneT-A5c1",
        "U4t4dubYPe4h"
      ],
      "include_colab_link": true
    },
    "kernelspec": {
      "name": "python3",
      "display_name": "Python 3"
    },
    "language_info": {
      "name": "python"
    }
  },
  "cells": [
    {
      "cell_type": "markdown",
      "metadata": {
        "id": "view-in-github",
        "colab_type": "text"
      },
      "source": [
        "<a href=\"https://colab.research.google.com/github/jademene/Cloud-Cognitive-Services/blob/main/Additional_EDA_%26_Analysis.ipynb\" target=\"_parent\"><img src=\"https://colab.research.google.com/assets/colab-badge.svg\" alt=\"Open In Colab\"/></a>"
      ]
    },
    {
      "cell_type": "markdown",
      "source": [
        "# Install PySpark"
      ],
      "metadata": {
        "id": "64LRFB5HA-ej"
      }
    },
    {
      "cell_type": "code",
      "execution_count": 86,
      "metadata": {
        "colab": {
          "base_uri": "https://localhost:8080/",
          "height": 0
        },
        "id": "b7D8anXz-fjx",
        "outputId": "dc5f8af7-ec8a-4d3c-a098-45e9df91226f"
      },
      "outputs": [
        {
          "output_type": "stream",
          "name": "stdout",
          "text": [
            "\u001b[33m\r0% [Working]\u001b[0m\r            \rHit:1 http://security.ubuntu.com/ubuntu jammy-security InRelease\n",
            "\u001b[33m\r0% [Connecting to archive.ubuntu.com] [Connected to cloud.r-project.org (18.67.\u001b[0m\r                                                                               \rHit:2 https://cloud.r-project.org/bin/linux/ubuntu jammy-cran40/ InRelease\n",
            "Get:3 https://developer.download.nvidia.com/compute/cuda/repos/ubuntu2204/x86_64  InRelease [1,581 B]\n",
            "Hit:4 http://archive.ubuntu.com/ubuntu jammy InRelease\n",
            "Get:5 http://archive.ubuntu.com/ubuntu jammy-updates InRelease [119 kB]\n",
            "Hit:6 https://ppa.launchpadcontent.net/c2d4u.team/c2d4u4.0+/ubuntu jammy InRelease\n",
            "Hit:7 https://ppa.launchpadcontent.net/deadsnakes/ppa/ubuntu jammy InRelease\n",
            "Get:8 https://developer.download.nvidia.com/compute/cuda/repos/ubuntu2204/x86_64  Packages [830 kB]\n",
            "Hit:9 https://ppa.launchpadcontent.net/graphics-drivers/ppa/ubuntu jammy InRelease\n",
            "Hit:10 https://ppa.launchpadcontent.net/ubuntugis/ppa/ubuntu jammy InRelease\n",
            "Hit:11 http://archive.ubuntu.com/ubuntu jammy-backports InRelease\n",
            "Get:12 http://archive.ubuntu.com/ubuntu jammy-updates/main amd64 Packages [2,037 kB]\n",
            "Fetched 2,988 kB in 2s (1,549 kB/s)\n",
            "Reading package lists... Done\n",
            "Building dependency tree... Done\n",
            "Reading state information... Done\n",
            "46 packages can be upgraded. Run 'apt list --upgradable' to see them.\n",
            "tar: spark-3.2.1-bin-hadoop3.2.tgz: Cannot open: No such file or directory\n",
            "tar: Error is not recoverable: exiting now\n",
            "Requirement already satisfied: pyspark in /usr/local/lib/python3.10/dist-packages (3.5.1)\n",
            "Requirement already satisfied: py4j==0.10.9.7 in /usr/local/lib/python3.10/dist-packages (from pyspark) (0.10.9.7)\n",
            "\u001b[31mERROR: Operation cancelled by user\u001b[0m\u001b[31m\n",
            "\u001b[0mRequirement already satisfied: py4j in /usr/local/lib/python3.10/dist-packages (0.10.9.7)\n"
          ]
        },
        {
          "output_type": "execute_result",
          "data": {
            "text/plain": [
              "<pyspark.sql.session.SparkSession at 0x7b262c69f3d0>"
            ],
            "text/html": [
              "\n",
              "            <div>\n",
              "                <p><b>SparkSession - in-memory</b></p>\n",
              "                \n",
              "        <div>\n",
              "            <p><b>SparkContext</b></p>\n",
              "\n",
              "            <p><a href=\"http://0f9e97d447ff:4040\">Spark UI</a></p>\n",
              "\n",
              "            <dl>\n",
              "              <dt>Version</dt>\n",
              "                <dd><code>v3.5.1</code></dd>\n",
              "              <dt>Master</dt>\n",
              "                <dd><code>local[*]</code></dd>\n",
              "              <dt>AppName</dt>\n",
              "                <dd><code>Our First Spark Example</code></dd>\n",
              "            </dl>\n",
              "        </div>\n",
              "        \n",
              "            </div>\n",
              "        "
            ]
          },
          "metadata": {},
          "execution_count": 86
        }
      ],
      "source": [
        "!sudo apt update\n",
        "!apt-get install openjdk-8-jdk-headless -qq > /dev/null\n",
        "#Check this site for the latest download link https://www.apache.org/dyn/closer.lua/spark/spark-3.2.1/spark-3.2.1-bin-hadoop3.2.tgz\n",
        "!wget -q https://dlcdn.apache.org/spark/spark-3.2.1/spark-3.2.1-bin-hadoop3.2.tgz\n",
        "!tar xf spark-3.2.1-bin-hadoop3.2.tgz\n",
        "!pip install -q findspark\n",
        "!pip install pyspark\n",
        "!pip install py4j\n",
        "\n",
        "import os\n",
        "import sys\n",
        "# os.environ[\"JAVA_HOME\"] = \"/usr/lib/jvm/java-8-openjdk-amd64\"\n",
        "# os.environ[\"SPARK_HOME\"] = \"/content/spark-3.2.1-bin-hadoop3.2\"\n",
        "\n",
        "\n",
        "import findspark\n",
        "findspark.init()\n",
        "findspark.find()\n",
        "\n",
        "import pyspark\n",
        "\n",
        "from pyspark.sql import DataFrame, SparkSession\n",
        "from typing import List\n",
        "import pyspark.sql.types as T\n",
        "import pyspark.sql.functions as F\n",
        "\n",
        "spark= SparkSession \\\n",
        "       .builder \\\n",
        "       .appName(\"Our First Spark Example\") \\\n",
        "       .getOrCreate()\n",
        "\n",
        "spark"
      ]
    },
    {
      "cell_type": "code",
      "source": [
        "spark"
      ],
      "metadata": {
        "colab": {
          "base_uri": "https://localhost:8080/",
          "height": 0
        },
        "id": "vNg5BZ4yAoQk",
        "outputId": "36cc5281-126c-4557-9a65-386392e1f8eb"
      },
      "execution_count": 87,
      "outputs": [
        {
          "output_type": "execute_result",
          "data": {
            "text/plain": [
              "<pyspark.sql.session.SparkSession at 0x7b262c69f3d0>"
            ],
            "text/html": [
              "\n",
              "            <div>\n",
              "                <p><b>SparkSession - in-memory</b></p>\n",
              "                \n",
              "        <div>\n",
              "            <p><b>SparkContext</b></p>\n",
              "\n",
              "            <p><a href=\"http://0f9e97d447ff:4040\">Spark UI</a></p>\n",
              "\n",
              "            <dl>\n",
              "              <dt>Version</dt>\n",
              "                <dd><code>v3.5.1</code></dd>\n",
              "              <dt>Master</dt>\n",
              "                <dd><code>local[*]</code></dd>\n",
              "              <dt>AppName</dt>\n",
              "                <dd><code>Our First Spark Example</code></dd>\n",
              "            </dl>\n",
              "        </div>\n",
              "        \n",
              "            </div>\n",
              "        "
            ]
          },
          "metadata": {},
          "execution_count": 87
        }
      ]
    },
    {
      "cell_type": "markdown",
      "source": [
        "# Import Data"
      ],
      "metadata": {
        "id": "jpZQneT-A5c1"
      }
    },
    {
      "cell_type": "code",
      "source": [
        "!git clone https://github.com/jademene/Cloud-Cognitive-Services.git\n",
        "\n",
        "df = spark.read.csv('Cloud-Cognitive-Services/train.csv', header = True)"
      ],
      "metadata": {
        "id": "pTWc6HN9A2sH",
        "outputId": "11117603-2455-47cc-e53b-2d8483a7ac01",
        "colab": {
          "base_uri": "https://localhost:8080/"
        }
      },
      "execution_count": 88,
      "outputs": [
        {
          "output_type": "stream",
          "name": "stdout",
          "text": [
            "fatal: destination path 'Cloud-Cognitive-Services' already exists and is not an empty directory.\n"
          ]
        }
      ]
    },
    {
      "cell_type": "code",
      "source": [
        "#Viewing the dataframe schema\n",
        "df.printSchema()"
      ],
      "metadata": {
        "colab": {
          "base_uri": "https://localhost:8080/"
        },
        "id": "P9_P9A1MCasJ",
        "outputId": "ae9a2aed-6d01-4a85-ba31-ddc3fd0ba32e"
      },
      "execution_count": 89,
      "outputs": [
        {
          "output_type": "stream",
          "name": "stdout",
          "text": [
            "root\n",
            " |-- PassengerId: string (nullable = true)\n",
            " |-- Survived: string (nullable = true)\n",
            " |-- Pclass: string (nullable = true)\n",
            " |-- Name: string (nullable = true)\n",
            " |-- Sex: string (nullable = true)\n",
            " |-- Age: string (nullable = true)\n",
            " |-- SibSp: string (nullable = true)\n",
            " |-- Parch: string (nullable = true)\n",
            " |-- Ticket: string (nullable = true)\n",
            " |-- Fare: string (nullable = true)\n",
            " |-- Cabin: string (nullable = true)\n",
            " |-- Embarked: string (nullable = true)\n",
            "\n"
          ]
        }
      ]
    },
    {
      "cell_type": "code",
      "source": [
        "#Summary stats\n",
        "df.show()"
      ],
      "metadata": {
        "colab": {
          "base_uri": "https://localhost:8080/"
        },
        "id": "qvewYcwrCfyG",
        "outputId": "4ff3c4ea-2067-447d-c7b6-bc4807a5bfd7"
      },
      "execution_count": 90,
      "outputs": [
        {
          "output_type": "stream",
          "name": "stdout",
          "text": [
            "+-----------+--------+------+--------------------+------+----+-----+-----+----------------+-------+-----+--------+\n",
            "|PassengerId|Survived|Pclass|                Name|   Sex| Age|SibSp|Parch|          Ticket|   Fare|Cabin|Embarked|\n",
            "+-----------+--------+------+--------------------+------+----+-----+-----+----------------+-------+-----+--------+\n",
            "|          1|       0|     3|Braund, Mr. Owen ...|  male|  22|    1|    0|       A/5 21171|   7.25| NULL|       S|\n",
            "|          2|       1|     1|Cumings, Mrs. Joh...|female|  38|    1|    0|        PC 17599|71.2833|  C85|       C|\n",
            "|          3|       1|     3|Heikkinen, Miss. ...|female|  26|    0|    0|STON/O2. 3101282|  7.925| NULL|       S|\n",
            "|          4|       1|     1|Futrelle, Mrs. Ja...|female|  35|    1|    0|          113803|   53.1| C123|       S|\n",
            "|          5|       0|     3|Allen, Mr. Willia...|  male|  35|    0|    0|          373450|   8.05| NULL|       S|\n",
            "|          6|       0|     3|    Moran, Mr. James|  male|NULL|    0|    0|          330877| 8.4583| NULL|       Q|\n",
            "|          7|       0|     1|McCarthy, Mr. Tim...|  male|  54|    0|    0|           17463|51.8625|  E46|       S|\n",
            "|          8|       0|     3|Palsson, Master. ...|  male|   2|    3|    1|          349909| 21.075| NULL|       S|\n",
            "|          9|       1|     3|Johnson, Mrs. Osc...|female|  27|    0|    2|          347742|11.1333| NULL|       S|\n",
            "|         10|       1|     2|Nasser, Mrs. Nich...|female|  14|    1|    0|          237736|30.0708| NULL|       C|\n",
            "|         11|       1|     3|Sandstrom, Miss. ...|female|   4|    1|    1|         PP 9549|   16.7|   G6|       S|\n",
            "|         12|       1|     1|Bonnell, Miss. El...|female|  58|    0|    0|          113783|  26.55| C103|       S|\n",
            "|         13|       0|     3|Saundercock, Mr. ...|  male|  20|    0|    0|       A/5. 2151|   8.05| NULL|       S|\n",
            "|         14|       0|     3|Andersson, Mr. An...|  male|  39|    1|    5|          347082| 31.275| NULL|       S|\n",
            "|         15|       0|     3|Vestrom, Miss. Hu...|female|  14|    0|    0|          350406| 7.8542| NULL|       S|\n",
            "|         16|       1|     2|Hewlett, Mrs. (Ma...|female|  55|    0|    0|          248706|     16| NULL|       S|\n",
            "|         17|       0|     3|Rice, Master. Eugene|  male|   2|    4|    1|          382652| 29.125| NULL|       Q|\n",
            "|         18|       1|     2|Williams, Mr. Cha...|  male|NULL|    0|    0|          244373|     13| NULL|       S|\n",
            "|         19|       0|     3|Vander Planke, Mr...|female|  31|    1|    0|          345763|     18| NULL|       S|\n",
            "|         20|       1|     3|Masselmani, Mrs. ...|female|NULL|    0|    0|            2649|  7.225| NULL|       C|\n",
            "+-----------+--------+------+--------------------+------+----+-----+-----+----------------+-------+-----+--------+\n",
            "only showing top 20 rows\n",
            "\n"
          ]
        }
      ]
    },
    {
      "cell_type": "markdown",
      "source": [
        "#EDA"
      ],
      "metadata": {
        "id": "U4t4dubYPe4h"
      }
    },
    {
      "cell_type": "code",
      "source": [
        "from pyspark.sql import SparkSession\n",
        "from pyspark.sql.functions import col\n",
        "\n",
        "# Filter by Sex\n",
        "male_passengers = df.filter(col(\"Sex\") == \"male\")\n",
        "female_passengers = df.filter(col(\"Sex\") == \"female\")\n",
        "\n",
        "# Calculate the total number of passengers by sex\n",
        "total_male_passengers = male_passengers.count()\n",
        "total_female_passengers = female_passengers.count()\n",
        "\n",
        "# Calculate the number of survivors by sex\n",
        "male_survivors = male_passengers.filter(col(\"Survived\") == \"1\").count()\n",
        "female_survivors = female_passengers.filter(col(\"Survived\") == \"1\").count()\n",
        "\n",
        "# Filter by Age, NULL, then Sex\n",
        "null_age = df.filter(df.Age.isNull())\n",
        "total_null_age = null_age.count()\n",
        "total_passengers = (total_male_passengers) + (total_female_passengers) - (total_null_age)\n",
        "\n",
        "# Survival rate among null age\n",
        "null_age_survivors = null_age.filter(col(\"Survived\") == \"1\").count()\n",
        "survivors = (male_survivors) + (female_survivors) - (null_age_survivors)\n",
        "\n",
        "# Survival rate among null age, by gender\n",
        "null_age_male_survivors = null_age.filter((col(\"Survived\") == \"1\") & (col(\"Sex\") == \"male\")).count()\n",
        "null_age_female_survivors = null_age.filter((col(\"Survived\") == \"1\") & (col(\"Sex\") == \"female\")).count()\n",
        "\n",
        "#Print Survival Stats\n",
        "print(f\"Number of Age not null: {total_passengers}\")\n",
        "print(\"Percentage of survivors among age (no null): {:.2f}%\".format((survivors / total_passengers) * 100))\n",
        "print(\"Of which the male % is: {:.2f}%\".format((male_survivors / total_passengers) * 100))\n",
        "print(\"Of which the female % is: {:.2f}%\".format((female_survivors / total_passengers) * 100))\n",
        "print(\"\")\n",
        "print(f\"Number of Null Age: {total_null_age}\")\n",
        "print(\"Percentage of survivors among null age: {:.2f}%\".format((null_age_survivors / total_null_age) * 100))\n",
        "print(\"Of which the male % is: {:.2f}%\".format((null_age_male_survivors / total_null_age) * 100))\n",
        "print(\"Of which the female % is: {:.2f}%\".format((null_age_female_survivors / total_null_age) * 100))"
      ],
      "metadata": {
        "id": "ctLlt5cPQDAh",
        "outputId": "954d41be-8e8a-484a-aae5-48ab775068da",
        "colab": {
          "base_uri": "https://localhost:8080/"
        }
      },
      "execution_count": 59,
      "outputs": [
        {
          "output_type": "stream",
          "name": "stdout",
          "text": [
            "Number of Age not null: 714\n",
            "Percentage of survivors among age (no null): 40.62%\n",
            "Of which the male % is: 15.27%\n",
            "Of which the female % is: 32.63%\n",
            "\n",
            "Number of Null Age: 177\n",
            "Percentage of survivors among null age: 29.38%\n",
            "Of which the male % is: 9.04%\n",
            "Of which the female % is: 20.34%\n"
          ]
        }
      ]
    },
    {
      "cell_type": "code",
      "source": [
        "import matplotlib.pyplot as plt\n",
        "from pyspark.sql.functions import col\n",
        "\n",
        "# Filter data for survivors and casualties\n",
        "survivors_age = df.filter(col(\"Survived\") == \"1\").select(\"Age\").collect()\n",
        "casualties_age = df.filter(col(\"Survived\") == \"0\").select(\"Age\").collect()\n",
        "\n",
        "# Extract ages from Row objects and convert to float\n",
        "survivors_age = [float(row.Age) for row in survivors_age if row.Age is not None]\n",
        "casualties_age = [float(row.Age) for row in casualties_age if row.Age is not None]\n",
        "\n",
        "# Prepare data for plots\n",
        "data = [survivors_age, casualties_age]\n",
        "labels = ['Survivors', 'Casualties']\n",
        "\n",
        "# Create box plots\n",
        "plt.figure(figsize=(6, 4))\n",
        "plt.boxplot(data, labels=labels, patch_artist=True, showmeans=True)\n",
        "plt.xlabel('Passenger Status')\n",
        "plt.ylabel('Age')\n",
        "plt.title('Box Plot of Age for Survivors and Casualties')\n",
        "plt.grid(axis='y', linestyle='--', alpha=0.7)\n",
        "plt.show()"
      ],
      "metadata": {
        "colab": {
          "base_uri": "https://localhost:8080/",
          "height": 410
        },
        "id": "yryYV6f_Pu8K",
        "outputId": "04051c04-0908-48e5-8c96-70c51579b29b"
      },
      "execution_count": 60,
      "outputs": [
        {
          "output_type": "display_data",
          "data": {
            "text/plain": [
              "<Figure size 600x400 with 1 Axes>"
            ],
            "image/png": "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\n"
          },
          "metadata": {}
        }
      ]
    },
    {
      "cell_type": "markdown",
      "source": [
        "BOXPLOT:\n",
        "\n",
        "Some outliers that are within normal range."
      ],
      "metadata": {
        "id": "Y2rwCuotTK9J"
      }
    },
    {
      "cell_type": "code",
      "source": [
        "import matplotlib.pyplot as plt\n",
        "from pyspark.sql.functions import col\n",
        "\n",
        "# Convert fare column to FloatType\n",
        "df = df.withColumn(\"Fare\", df[\"Fare\"].cast(\"float\"))\n",
        "\n",
        "# Filter data for survivors and casualties\n",
        "survivors_fare = df.filter(col(\"Survived\") == \"1\").select(\"Fare\").collect()\n",
        "casualties_fare = df.filter(col(\"Survived\") == \"0\").select(\"Fare\").collect()\n",
        "\n",
        "# Extract fares from Row objects\n",
        "survivors_fare = [row.Fare for row in survivors_fare if row.Fare is not None]\n",
        "casualties_fare = [row.Fare for row in casualties_fare if row.Fare is not None]\n",
        "\n",
        "# Prepare data for box plots\n",
        "data = [survivors_fare, casualties_fare]\n",
        "labels = ['Survivors', 'Casualties']\n",
        "\n",
        "# Create box plots\n",
        "plt.figure(figsize=(6, 4))\n",
        "plt.boxplot(data, labels=labels, patch_artist=True, showmeans=True)\n",
        "plt.xlabel('Passenger Status')\n",
        "plt.ylabel('Fare')\n",
        "plt.title('Box Plot of Fare for Survivors and Casualties')\n",
        "plt.grid(axis='y', linestyle='--', alpha=0.7)\n",
        "plt.show()"
      ],
      "metadata": {
        "colab": {
          "base_uri": "https://localhost:8080/",
          "height": 410
        },
        "id": "JT9vRBbyTARa",
        "outputId": "1824c89c-72a9-49e4-f188-f9839b2786e8"
      },
      "execution_count": 61,
      "outputs": [
        {
          "output_type": "display_data",
          "data": {
            "text/plain": [
              "<Figure size 600x400 with 1 Axes>"
            ],
            "image/png": "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\n"
          },
          "metadata": {}
        }
      ]
    },
    {
      "cell_type": "markdown",
      "source": [
        "BOXPLOT:\n",
        "\n",
        "In the survivors especially there is an extremely high 500+ fare [outlier]."
      ],
      "metadata": {
        "id": "x3ODpE8-UDe6"
      }
    },
    {
      "cell_type": "code",
      "source": [
        "fare_outlier = df.filter(col(\"Fare\").cast(\"float\") > 500)\n",
        "\n",
        "# Show the result\n",
        "fare_outlier.show()"
      ],
      "metadata": {
        "colab": {
          "base_uri": "https://localhost:8080/"
        },
        "id": "CZr_m58YCC5N",
        "outputId": "e1cb5478-be97-40d5-a644-fd35564c2834"
      },
      "execution_count": 64,
      "outputs": [
        {
          "output_type": "stream",
          "name": "stdout",
          "text": [
            "+-----------+--------+------+--------------------+------+---+-----+-----+--------+--------+-----------+--------+\n",
            "|PassengerId|Survived|Pclass|                Name|   Sex|Age|SibSp|Parch|  Ticket|    Fare|      Cabin|Embarked|\n",
            "+-----------+--------+------+--------------------+------+---+-----+-----+--------+--------+-----------+--------+\n",
            "|        259|       1|     1|    Ward, Miss. Anna|female| 35|    0|    0|PC 17755|512.3292|       NULL|       C|\n",
            "|        680|       1|     1|Cardeza, Mr. Thom...|  male| 36|    0|    1|PC 17755|512.3292|B51 B53 B55|       C|\n",
            "|        738|       1|     1|Lesurer, Mr. Gust...|  male| 35|    0|    0|PC 17755|512.3292|       B101|       C|\n",
            "+-----------+--------+------+--------------------+------+---+-----+-----+--------+--------+-----------+--------+\n",
            "\n"
          ]
        }
      ]
    },
    {
      "cell_type": "code",
      "source": [
        "import matplotlib.pyplot as plt\n",
        "from pyspark.sql.functions import col\n",
        "\n",
        "# Group the DataFrame by \"Pclass\" and count the number of passengers in each class\n",
        "class_counts = df.groupBy(\"Pclass\").count().orderBy(\"Pclass\")\n",
        "\n",
        "# Convert DataFrame to Pandas for plotting\n",
        "class_counts_pd = class_counts.toPandas()\n",
        "\n",
        "# Plot bar plot\n",
        "plt.figure(figsize=(8, 6))\n",
        "plt.bar(class_counts_pd[\"Pclass\"], class_counts_pd[\"count\"], color='skyblue', edgecolor='black')\n",
        "plt.xlabel('Passenger Class')\n",
        "plt.ylabel('Count')\n",
        "plt.title('Distribution of Passenger Class')\n",
        "plt.xticks(class_counts_pd[\"Pclass\"])\n",
        "plt.grid(axis='y', linestyle='--', alpha=0.7)\n",
        "plt.show()"
      ],
      "metadata": {
        "colab": {
          "base_uri": "https://localhost:8080/",
          "height": 564
        },
        "id": "zHVy7sQ3tKXC",
        "outputId": "a918a805-4c36-4d0f-d9f9-6992723ce542"
      },
      "execution_count": 65,
      "outputs": [
        {
          "output_type": "display_data",
          "data": {
            "text/plain": [
              "<Figure size 800x600 with 1 Axes>"
            ],
            "image/png": "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\n"
          },
          "metadata": {}
        }
      ]
    },
    {
      "cell_type": "markdown",
      "source": [
        "BAR CHART:\n",
        "\n",
        "Vast majority are thrid class passenges (reflected in the was number of low priced fares)."
      ],
      "metadata": {
        "id": "DrVXpbW4Bir4"
      }
    },
    {
      "cell_type": "markdown",
      "source": [
        "# Data Cleaning"
      ],
      "metadata": {
        "id": "BpU181xUI9I7"
      }
    },
    {
      "cell_type": "code",
      "source": [
        "from pyspark.sql.functions import col, isnan, when, count\n",
        "\n",
        "#create a df copy to avoid changing the original data\n",
        "df_clean = df.alias(\"df_clean\")\n",
        "\n",
        "# Count the number of missing values in each column\n",
        "missing_values = df_clean.select([count(when(isnan(c) | col(c).isNull(), c)).alias(c) for c in df_clean.columns])\n",
        "\n",
        "# Show the count of missing values\n",
        "missing_values.show()"
      ],
      "metadata": {
        "colab": {
          "base_uri": "https://localhost:8080/"
        },
        "id": "FCDIDtakJCZ6",
        "outputId": "0d33ee53-a638-4c80-fa3f-85b6a43dd4d3"
      },
      "execution_count": 125,
      "outputs": [
        {
          "output_type": "stream",
          "name": "stdout",
          "text": [
            "+-----------+--------+------+----+---+---+-----+-----+------+----+-----+--------+\n",
            "|PassengerId|Survived|Pclass|Name|Sex|Age|SibSp|Parch|Ticket|Fare|Cabin|Embarked|\n",
            "+-----------+--------+------+----+---+---+-----+-----+------+----+-----+--------+\n",
            "|          0|       0|     0|   0|  0|177|    0|    0|     0|   0|  687|       2|\n",
            "+-----------+--------+------+----+---+---+-----+-----+------+----+-----+--------+\n",
            "\n"
          ]
        }
      ]
    },
    {
      "cell_type": "code",
      "source": [
        "from pyspark.sql.functions import when, median\n",
        "from pyspark.sql.types import IntegerType  # Import IntegerType\n",
        "\n",
        "# Replace missing values of Age with the median value because as we see from the distribution above the average might be a less\n",
        "#representative number (weird distribution and outliers)\n",
        "median_age = df_clean.select(median(\"Age\")).collect()[0][0]\n",
        "df_clean = df_clean.withColumn(\"Age\", when(col(\"Age\").isNull(),(median_age)).otherwise(col(\"Age\")))\n",
        "df_clean = df_clean.withColumn(\"Age\", df_clean[\"Age\"].cast(IntegerType()))\n",
        "\n",
        "# Introduce a new category \"Not available\" for missing values of Cabin, as there are many\n",
        "df_clean = df_clean.withColumn(\"Cabin\", when(col(\"Cabin\").isNull(), \"Not available\").otherwise(col(\"Cabin\")))\n",
        "\n",
        "# Drop the 2 missing observations in Embarked\n",
        "df_clean = df_clean.dropna(subset=[\"Embarked\"])\n",
        "\n",
        "# Check the first few rows to verify the changes\n",
        "df_clean.show()\n",
        "\n",
        "# Check the count of missing values to confirm\n",
        "missing_values = df_clean.select([count(when(isnan(c) | col(c).isNull(), c)).alias(c) for c in df_clean.columns])\n",
        "missing_values.show()\n"
      ],
      "metadata": {
        "colab": {
          "base_uri": "https://localhost:8080/"
        },
        "id": "gyAzpRd9LCSl",
        "outputId": "dd0cfee7-27d1-4b5d-f238-1dabab45ab5b"
      },
      "execution_count": 129,
      "outputs": [
        {
          "output_type": "stream",
          "name": "stdout",
          "text": [
            "+-----------+--------+------+--------------------+------+---+-----+-----+----------------+-------+-------------+--------+-------+\n",
            "|PassengerId|Survived|Pclass|                Name|   Sex|Age|SibSp|Parch|          Ticket|   Fare|        Cabin|Embarked|  Title|\n",
            "+-----------+--------+------+--------------------+------+---+-----+-----+----------------+-------+-------------+--------+-------+\n",
            "|          1|       0|     3|Braund, Mr. Owen ...|  male| 22|    1|    0|       A/5 21171|   7.25|Not available|       S|     Mr|\n",
            "|          2|       1|     1|Cumings, Mrs. Joh...|female| 38|    1|    0|        PC 17599|71.2833|          C85|       C|    Mrs|\n",
            "|          3|       1|     3|Heikkinen, Miss. ...|female| 26|    0|    0|STON/O2. 3101282|  7.925|Not available|       S|   Miss|\n",
            "|          4|       1|     1|Futrelle, Mrs. Ja...|female| 35|    1|    0|          113803|   53.1|         C123|       S|    Mrs|\n",
            "|          5|       0|     3|Allen, Mr. Willia...|  male| 35|    0|    0|          373450|   8.05|Not available|       S|     Mr|\n",
            "|          6|       0|     3|    Moran, Mr. James|  male| 28|    0|    0|          330877| 8.4583|Not available|       Q|     Mr|\n",
            "|          7|       0|     1|McCarthy, Mr. Tim...|  male| 54|    0|    0|           17463|51.8625|          E46|       S|     Mr|\n",
            "|          8|       0|     3|Palsson, Master. ...|  male|  2|    3|    1|          349909| 21.075|Not available|       S| Master|\n",
            "|          9|       1|     3|Johnson, Mrs. Osc...|female| 27|    0|    2|          347742|11.1333|Not available|       S|    Mrs|\n",
            "|         10|       1|     2|Nasser, Mrs. Nich...|female| 14|    1|    0|          237736|30.0708|Not available|       C|    Mrs|\n",
            "|         11|       1|     3|Sandstrom, Miss. ...|female|  4|    1|    1|         PP 9549|   16.7|           G6|       S|   Miss|\n",
            "|         12|       1|     1|Bonnell, Miss. El...|female| 58|    0|    0|          113783|  26.55|         C103|       S|   Miss|\n",
            "|         13|       0|     3|Saundercock, Mr. ...|  male| 20|    0|    0|       A/5. 2151|   8.05|Not available|       S|     Mr|\n",
            "|         14|       0|     3|Andersson, Mr. An...|  male| 39|    1|    5|          347082| 31.275|Not available|       S|     Mr|\n",
            "|         15|       0|     3|Vestrom, Miss. Hu...|female| 14|    0|    0|          350406| 7.8542|Not available|       S|   Miss|\n",
            "|         16|       1|     2|Hewlett, Mrs. (Ma...|female| 55|    0|    0|          248706|     16|Not available|       S|    Mrs|\n",
            "|         17|       0|     3|Rice, Master. Eugene|  male|  2|    4|    1|          382652| 29.125|Not available|       Q| Master|\n",
            "|         18|       1|     2|Williams, Mr. Cha...|  male| 28|    0|    0|          244373|     13|Not available|       S|     Mr|\n",
            "|         19|       0|     3|Vander Planke, Mr...|female| 31|    1|    0|          345763|     18|Not available|       S|    Mrs|\n",
            "|         20|       1|     3|Masselmani, Mrs. ...|female| 28|    0|    0|            2649|  7.225|Not available|       C|    Mrs|\n",
            "+-----------+--------+------+--------------------+------+---+-----+-----+----------------+-------+-------------+--------+-------+\n",
            "only showing top 20 rows\n",
            "\n",
            "+-----------+--------+------+----+---+---+-----+-----+------+----+-----+--------+-----+\n",
            "|PassengerId|Survived|Pclass|Name|Sex|Age|SibSp|Parch|Ticket|Fare|Cabin|Embarked|Title|\n",
            "+-----------+--------+------+----+---+---+-----+-----+------+----+-----+--------+-----+\n",
            "|          0|       0|     0|   0|  0|  0|    0|    0|     0|   0|    0|       0|    0|\n",
            "+-----------+--------+------+----+---+---+-----+-----+------+----+-----+--------+-----+\n",
            "\n"
          ]
        }
      ]
    },
    {
      "cell_type": "markdown",
      "source": [
        "Now we will do some feature engineering to the 'Name' column. We will extract the titles given to names (Mr, Miss etc.) and see if they have any relevance."
      ],
      "metadata": {
        "id": "9Oe8lb07hC_Q"
      }
    },
    {
      "cell_type": "code",
      "source": [
        "from pyspark.sql.functions import col, split\n",
        "\n",
        "# Extract titles from the \"Name\" column using PySpark functions\n",
        "df_clean = df_clean.withColumn(\"Title\", split(split(col(\"Name\"), \",\")[1], \"\\.\")[0].cast(\"string\"))\n",
        "\n",
        "# Show the count of each title\n",
        "title_counts = df_clean.groupBy(\"Title\").count().orderBy(\"count\", ascending=False)\n",
        "title_counts.show()"
      ],
      "metadata": {
        "colab": {
          "base_uri": "https://localhost:8080/"
        },
        "id": "39k7NAtEgn5n",
        "outputId": "d55074a4-b6f5-46a9-86a0-e048815f3938"
      },
      "execution_count": 130,
      "outputs": [
        {
          "output_type": "stream",
          "name": "stdout",
          "text": [
            "+-------------+-----+\n",
            "|        Title|count|\n",
            "+-------------+-----+\n",
            "|           Mr|  517|\n",
            "|         Miss|  181|\n",
            "|          Mrs|  124|\n",
            "|       Master|   40|\n",
            "|           Dr|    7|\n",
            "|          Rev|    6|\n",
            "|          Col|    2|\n",
            "|         Mlle|    2|\n",
            "|        Major|    2|\n",
            "|         Capt|    1|\n",
            "|         Lady|    1|\n",
            "|     Jonkheer|    1|\n",
            "|          Sir|    1|\n",
            "| the Countess|    1|\n",
            "|          Don|    1|\n",
            "|           Ms|    1|\n",
            "|          Mme|    1|\n",
            "+-------------+-----+\n",
            "\n"
          ]
        }
      ]
    },
    {
      "cell_type": "code",
      "source": [
        "from pyspark.sql.functions import col, split\n",
        "\n",
        "# Extract titles from the \"Name\" column using PySpark functions and create a new column\n",
        "df_clean = df_clean.withColumn(\"Title\", split(split(col(\"Name\"), \",\")[1], \"\\.\")[0].cast(\"string\"))\n",
        "\n",
        "# Show the DataFrame with the new \"Title\" column\n",
        "df_clean.show()"
      ],
      "metadata": {
        "colab": {
          "base_uri": "https://localhost:8080/"
        },
        "id": "mJsYmeT0QLPT",
        "outputId": "f9da9fad-ee36-4e5d-e5b6-8f91043c874d"
      },
      "execution_count": 131,
      "outputs": [
        {
          "output_type": "stream",
          "name": "stdout",
          "text": [
            "+-----------+--------+------+--------------------+------+---+-----+-----+----------------+-------+-------------+--------+-------+\n",
            "|PassengerId|Survived|Pclass|                Name|   Sex|Age|SibSp|Parch|          Ticket|   Fare|        Cabin|Embarked|  Title|\n",
            "+-----------+--------+------+--------------------+------+---+-----+-----+----------------+-------+-------------+--------+-------+\n",
            "|          1|       0|     3|Braund, Mr. Owen ...|  male| 22|    1|    0|       A/5 21171|   7.25|Not available|       S|     Mr|\n",
            "|          2|       1|     1|Cumings, Mrs. Joh...|female| 38|    1|    0|        PC 17599|71.2833|          C85|       C|    Mrs|\n",
            "|          3|       1|     3|Heikkinen, Miss. ...|female| 26|    0|    0|STON/O2. 3101282|  7.925|Not available|       S|   Miss|\n",
            "|          4|       1|     1|Futrelle, Mrs. Ja...|female| 35|    1|    0|          113803|   53.1|         C123|       S|    Mrs|\n",
            "|          5|       0|     3|Allen, Mr. Willia...|  male| 35|    0|    0|          373450|   8.05|Not available|       S|     Mr|\n",
            "|          6|       0|     3|    Moran, Mr. James|  male| 28|    0|    0|          330877| 8.4583|Not available|       Q|     Mr|\n",
            "|          7|       0|     1|McCarthy, Mr. Tim...|  male| 54|    0|    0|           17463|51.8625|          E46|       S|     Mr|\n",
            "|          8|       0|     3|Palsson, Master. ...|  male|  2|    3|    1|          349909| 21.075|Not available|       S| Master|\n",
            "|          9|       1|     3|Johnson, Mrs. Osc...|female| 27|    0|    2|          347742|11.1333|Not available|       S|    Mrs|\n",
            "|         10|       1|     2|Nasser, Mrs. Nich...|female| 14|    1|    0|          237736|30.0708|Not available|       C|    Mrs|\n",
            "|         11|       1|     3|Sandstrom, Miss. ...|female|  4|    1|    1|         PP 9549|   16.7|           G6|       S|   Miss|\n",
            "|         12|       1|     1|Bonnell, Miss. El...|female| 58|    0|    0|          113783|  26.55|         C103|       S|   Miss|\n",
            "|         13|       0|     3|Saundercock, Mr. ...|  male| 20|    0|    0|       A/5. 2151|   8.05|Not available|       S|     Mr|\n",
            "|         14|       0|     3|Andersson, Mr. An...|  male| 39|    1|    5|          347082| 31.275|Not available|       S|     Mr|\n",
            "|         15|       0|     3|Vestrom, Miss. Hu...|female| 14|    0|    0|          350406| 7.8542|Not available|       S|   Miss|\n",
            "|         16|       1|     2|Hewlett, Mrs. (Ma...|female| 55|    0|    0|          248706|     16|Not available|       S|    Mrs|\n",
            "|         17|       0|     3|Rice, Master. Eugene|  male|  2|    4|    1|          382652| 29.125|Not available|       Q| Master|\n",
            "|         18|       1|     2|Williams, Mr. Cha...|  male| 28|    0|    0|          244373|     13|Not available|       S|     Mr|\n",
            "|         19|       0|     3|Vander Planke, Mr...|female| 31|    1|    0|          345763|     18|Not available|       S|    Mrs|\n",
            "|         20|       1|     3|Masselmani, Mrs. ...|female| 28|    0|    0|            2649|  7.225|Not available|       C|    Mrs|\n",
            "+-----------+--------+------+--------------------+------+---+-----+-----+----------------+-------+-------------+--------+-------+\n",
            "only showing top 20 rows\n",
            "\n"
          ]
        }
      ]
    },
    {
      "cell_type": "markdown",
      "source": [
        "This is a lot of categories so we might group some of them together"
      ],
      "metadata": {
        "id": "svit6Y8POV2v"
      }
    },
    {
      "cell_type": "code",
      "source": [
        "from pyspark.sql.functions import regexp_replace\n",
        "\n",
        "# Define a regular expression pattern to match the titles to be replaced\n",
        "titles_to_replace = [\"Capt\", \"Col\", \"Major\", \"Dr\", \"Rev\"]\n",
        "pattern = \"|\".join(titles_to_replace)\n",
        "\n",
        "# Replace titles in the \"Title\" column with \"Officer\"\n",
        "df_clean = df_clean.withColumn(\"Title\", regexp_replace(col(\"Title\"), pattern, \"Officer\"))\n",
        "\n",
        "# Show the updated DataFrame\n",
        "df_clean.select(\"Title\").distinct().show(truncate=False)\n"
      ],
      "metadata": {
        "colab": {
          "base_uri": "https://localhost:8080/"
        },
        "id": "2Z41DfKaOgtS",
        "outputId": "bdd03647-27d3-4cbf-fc82-3e7b5c5e46b6"
      },
      "execution_count": 132,
      "outputs": [
        {
          "output_type": "stream",
          "name": "stdout",
          "text": [
            "+-------------+\n",
            "|Title        |\n",
            "+-------------+\n",
            "| Master      |\n",
            "| Mrs         |\n",
            "| Miss        |\n",
            "| Lady        |\n",
            "| Jonkheer    |\n",
            "| Mr          |\n",
            "| Sir         |\n",
            "| the Countess|\n",
            "| Mlle        |\n",
            "| Officer     |\n",
            "| Don         |\n",
            "| Ms          |\n",
            "| Mme         |\n",
            "+-------------+\n",
            "\n"
          ]
        }
      ]
    },
    {
      "cell_type": "code",
      "source": [
        "from pyspark.sql.functions import regexp_replace\n",
        "\n",
        "# Define a regular expression pattern to match the additional titles to be replaced\n",
        "additional_titles_to_replace = [\"Jonkheer\", \"Don\", \"Sir\", \"the Countess\", \"Dona\", \"Lady\"]\n",
        "additional_pattern = \"|\".join(additional_titles_to_replace)\n",
        "\n",
        "# Replace additional titles in the \"Title\" column with \"Noble\"\n",
        "df_clean = df_clean.withColumn(\"Title\", regexp_replace(col(\"Title\"), additional_pattern, \"Noble\"))\n",
        "\n",
        "# Show the updated DataFrame\n",
        "df_clean.select(\"Title\").distinct().show(truncate=False)"
      ],
      "metadata": {
        "colab": {
          "base_uri": "https://localhost:8080/"
        },
        "id": "ZqC1wvWjPRF8",
        "outputId": "71e3fceb-77de-4b46-cbf0-1e993d6fe508"
      },
      "execution_count": 133,
      "outputs": [
        {
          "output_type": "stream",
          "name": "stdout",
          "text": [
            "+--------+\n",
            "|Title   |\n",
            "+--------+\n",
            "| Master |\n",
            "| Mrs    |\n",
            "| Noble  |\n",
            "| Miss   |\n",
            "| Mr     |\n",
            "| Mlle   |\n",
            "| Officer|\n",
            "| Ms     |\n",
            "| Mme    |\n",
            "+--------+\n",
            "\n"
          ]
        }
      ]
    },
    {
      "cell_type": "code",
      "source": [
        "from pyspark.sql.functions import regexp_replace\n",
        "\n",
        "# Define a dictionary to map titles to their replacements\n",
        "title_replacements = {\n",
        "    \"Mme\": \"Mrs\",\n",
        "    \"Ms\": \"Mrs\",\n",
        "    \"Mlle\": \"Miss\"\n",
        "}\n",
        "\n",
        "# Iterate over the dictionary and replace titles in the \"Title\" column\n",
        "for old_title, new_title in title_replacements.items():\n",
        "    df_clean = df_clean.withColumn(\"Title\", regexp_replace(col(\"Title\"), old_title, new_title))\n",
        "\n",
        "# Show the updated DataFrame\n",
        "df_clean.select(\"Title\").distinct().show(truncate=False)"
      ],
      "metadata": {
        "colab": {
          "base_uri": "https://localhost:8080/"
        },
        "id": "6J2vvzUTP8Yz",
        "outputId": "2229b70b-77fa-4fd1-ab66-9bdc71a0717f"
      },
      "execution_count": 134,
      "outputs": [
        {
          "output_type": "stream",
          "name": "stdout",
          "text": [
            "+--------+\n",
            "|Title   |\n",
            "+--------+\n",
            "| Master |\n",
            "| Mrs    |\n",
            "| Noble  |\n",
            "| Miss   |\n",
            "| Mr     |\n",
            "| Officer|\n",
            "+--------+\n",
            "\n"
          ]
        }
      ]
    },
    {
      "cell_type": "markdown",
      "source": [
        "now we will clean drop Name, Ticket, Embarked and PassengerId"
      ],
      "metadata": {
        "id": "R8KJ_LNLqSkw"
      }
    },
    {
      "cell_type": "code",
      "source": [
        "# Drop the \"Name\" and \"Ticket\" columns\n",
        "df_clean = df_clean.drop(\"Name\", \"Ticket\", \"Embarked\", \"PassengerId\")"
      ],
      "metadata": {
        "id": "vHYUWGQVqZgR"
      },
      "execution_count": 135,
      "outputs": []
    },
    {
      "cell_type": "code",
      "source": [
        "df_clean.show(10)"
      ],
      "metadata": {
        "colab": {
          "base_uri": "https://localhost:8080/"
        },
        "id": "0s9ySClKtj0N",
        "outputId": "37ca6cc4-dd0d-4291-fcf1-4ca99b7b4b2d"
      },
      "execution_count": 136,
      "outputs": [
        {
          "output_type": "stream",
          "name": "stdout",
          "text": [
            "+--------+------+------+---+-----+-----+-------+-------------+-------+\n",
            "|Survived|Pclass|   Sex|Age|SibSp|Parch|   Fare|        Cabin|  Title|\n",
            "+--------+------+------+---+-----+-----+-------+-------------+-------+\n",
            "|       0|     3|  male| 22|    1|    0|   7.25|Not available|     Mr|\n",
            "|       1|     1|female| 38|    1|    0|71.2833|          C85|    Mrs|\n",
            "|       1|     3|female| 26|    0|    0|  7.925|Not available|   Miss|\n",
            "|       1|     1|female| 35|    1|    0|   53.1|         C123|    Mrs|\n",
            "|       0|     3|  male| 35|    0|    0|   8.05|Not available|     Mr|\n",
            "|       0|     3|  male| 28|    0|    0| 8.4583|Not available|     Mr|\n",
            "|       0|     1|  male| 54|    0|    0|51.8625|          E46|     Mr|\n",
            "|       0|     3|  male|  2|    3|    1| 21.075|Not available| Master|\n",
            "|       1|     3|female| 27|    0|    2|11.1333|Not available|    Mrs|\n",
            "|       1|     2|female| 14|    1|    0|30.0708|Not available|    Mrs|\n",
            "+--------+------+------+---+-----+-----+-------+-------------+-------+\n",
            "only showing top 10 rows\n",
            "\n"
          ]
        }
      ]
    },
    {
      "cell_type": "markdown",
      "source": [
        "Now we proceed treating the outliers in Fare.\n",
        "\n",
        "Note: outliers in Age won't be treated as they are few and also seem like true values (e.g. 70 year olds are outliers but it's a possible age)\n",
        "\n",
        "To treat the outliers in Fare, values above 500 (definitly too high) will be replaced with the next highest values, still telling us that those passegers were wealthy and probably in first class."
      ],
      "metadata": {
        "id": "BiV2S689Ra7z"
      }
    },
    {
      "cell_type": "code",
      "source": [
        "from pyspark.sql.functions import when\n",
        "\n",
        "# Convert fare column to FloatType\n",
        "df_clean = df_clean.withColumn(\"Fare\", df_clean[\"Fare\"].cast(\"float\"))\n",
        "\n",
        "# Replace values above 200 in the \"Fare\" column with 150\n",
        "df_clean = df_clean.withColumn(\"Fare\", when(col(\"Fare\") > 200, 150).otherwise(col(\"Fare\")))\n",
        "\n",
        "# Show the updated DataFrame\n",
        "df_clean.select(\"Fare\").show(10)"
      ],
      "metadata": {
        "colab": {
          "base_uri": "https://localhost:8080/"
        },
        "id": "H1y09KqwtniJ",
        "outputId": "c43c87a9-f2dd-4779-b0ea-8f4b720bb081"
      },
      "execution_count": 139,
      "outputs": [
        {
          "output_type": "stream",
          "name": "stdout",
          "text": [
            "+-------+\n",
            "|   Fare|\n",
            "+-------+\n",
            "|   7.25|\n",
            "|71.2833|\n",
            "|  7.925|\n",
            "|   53.1|\n",
            "|   8.05|\n",
            "| 8.4583|\n",
            "|51.8625|\n",
            "| 21.075|\n",
            "|11.1333|\n",
            "|30.0708|\n",
            "+-------+\n",
            "only showing top 10 rows\n",
            "\n"
          ]
        }
      ]
    },
    {
      "cell_type": "markdown",
      "source": [
        "now we will clean Fare, to have all observations in the same format (2 decimals)"
      ],
      "metadata": {
        "id": "39dayyA4Z8cH"
      }
    },
    {
      "cell_type": "code",
      "source": [
        "from pyspark.sql.functions import format_number\n",
        "\n",
        "# Clean the \"Fare\" column to have two decimal places\n",
        "df_clean = df_clean.withColumn(\"Fare\", format_number(col(\"Fare\"), 2))\n",
        "\n",
        "# Show the cleaned \"Fare\" column\n",
        "df_clean.select(\"Fare\").show(10)"
      ],
      "metadata": {
        "colab": {
          "base_uri": "https://localhost:8080/"
        },
        "id": "JJfBdWZ-ZlXu",
        "outputId": "440afcbf-aa72-4718-d43d-64a54ae945ec"
      },
      "execution_count": 140,
      "outputs": [
        {
          "output_type": "stream",
          "name": "stdout",
          "text": [
            "+-----+\n",
            "| Fare|\n",
            "+-----+\n",
            "| 7.25|\n",
            "|71.28|\n",
            "| 7.93|\n",
            "|53.10|\n",
            "| 8.05|\n",
            "| 8.46|\n",
            "|51.86|\n",
            "|21.08|\n",
            "|11.13|\n",
            "|30.07|\n",
            "+-----+\n",
            "only showing top 10 rows\n",
            "\n"
          ]
        }
      ]
    },
    {
      "cell_type": "markdown",
      "source": [
        "# Initial Analysis"
      ],
      "metadata": {
        "id": "_U5rGEVQ-LhV"
      }
    },
    {
      "cell_type": "code",
      "source": [
        "from pyspark.sql import SparkSession\n",
        "from pyspark.sql.functions import col\n",
        "\n",
        "# Filter by Sex\n",
        "male_passengers = df_clean.filter(col(\"Sex\") == \"male\")\n",
        "female_passengers = df_clean.filter(col(\"Sex\") == \"female\")\n",
        "\n",
        "# Calculate the total number of passengers by sex\n",
        "total_male_passengers = male_passengers.count()\n",
        "total_female_passengers = female_passengers.count()\n",
        "total_passengers = (total_male_passengers) + (total_female_passengers)\n",
        "\n",
        "# Calculate the number of survivors by sex\n",
        "male_survivors = male_passengers.filter(col(\"Survived\") == \"1\").count()\n",
        "female_survivors = female_passengers.filter(col(\"Survived\") == \"1\").count()\n",
        "survivors = (male_survivors) + (female_survivors)\n",
        "\n",
        "#Print Survival Stats\n",
        "print(f\"Number of Age: {total_passengers}\")\n",
        "print(\"Percentage of survivors among age: {:.2f}%\".format((survivors / total_passengers) * 100))\n",
        "print(\"Of which the male % is: {:.2f}%\".format((male_survivors / total_passengers) * 100))\n",
        "print(\"Of which the female % is: {:.2f}%\".format((female_survivors / total_passengers) * 100))"
      ],
      "metadata": {
        "outputId": "1f946c97-2bf2-43bf-f985-1e8ab176329a",
        "colab": {
          "base_uri": "https://localhost:8080/"
        },
        "id": "F1ScpEgB-W1D"
      },
      "execution_count": 141,
      "outputs": [
        {
          "output_type": "stream",
          "name": "stdout",
          "text": [
            "Number of Age: 889\n",
            "Percentage of survivors among age: 38.25%\n",
            "Of which the male % is: 12.26%\n",
            "Of which the female % is: 25.98%\n"
          ]
        }
      ]
    },
    {
      "cell_type": "code",
      "source": [
        "import matplotlib.pyplot as plt\n",
        "from pyspark.sql.functions import col\n",
        "\n",
        "# Filter data for survivors and casualties\n",
        "survivors_age = df_clean.filter(col(\"Survived\") == \"1\").select(\"Age\").collect()\n",
        "casualties_age = df_clean.filter(col(\"Survived\") == \"0\").select(\"Age\").collect()\n",
        "\n",
        "# Extract ages from Row objects and convert to float\n",
        "survivors_age = [float(row.Age) for row in survivors_age]\n",
        "casualties_age = [float(row.Age) for row in casualties_age]\n",
        "\n",
        "# Prepare data for plots\n",
        "data = [survivors_age, casualties_age]\n",
        "labels = ['Survivors', 'Casualties']\n",
        "\n",
        "# Plot histogram\n",
        "plt.figure(figsize=(6, 4))\n",
        "plt.hist(data, bins=20, edgecolor='black')\n",
        "plt.xlabel('Age')\n",
        "plt.ylabel('Frequency')\n",
        "plt.title('Distribution of passenger age')\n",
        "plt.legend (labels)\n",
        "plt.grid(axis='y', linestyle='--', alpha=0.7)\n",
        "plt.show()"
      ],
      "metadata": {
        "colab": {
          "base_uri": "https://localhost:8080/",
          "height": 410
        },
        "outputId": "012e7e0a-3ba4-4a61-a348-5d44ede0c29c",
        "id": "NyzHX-jx-W1E"
      },
      "execution_count": 142,
      "outputs": [
        {
          "output_type": "display_data",
          "data": {
            "text/plain": [
              "<Figure size 600x400 with 1 Axes>"
            ],
            "image/png": "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\n"
          },
          "metadata": {}
        }
      ]
    },
    {
      "cell_type": "markdown",
      "source": [
        "BAR PLOT:\n",
        "\n",
        "Casualties are more frequent for passengers between 15 to 45. On the other hand infants have a higher frequency of survival.\n",
        "\n",
        "The large spike of 30yo is due to the null inputation with the median. This might be an issue, potentially a different approach to managing null values is needed."
      ],
      "metadata": {
        "id": "nX2eJ5uQ-W1X"
      }
    },
    {
      "cell_type": "code",
      "source": [
        "import matplotlib.pyplot as plt\n",
        "from pyspark.sql.functions import col\n",
        "\n",
        "# Convert Fare column to float\n",
        "df_clean = df_clean.withColumn(\"Fare\", col(\"Fare\").cast(\"float\"))\n",
        "\n",
        "# Filter data for survivors and casualties\n",
        "survivors_fare = df_clean.filter(col(\"Survived\") == \"1\").select(\"Fare\").collect()\n",
        "casualties_fare = df_clean.filter(col(\"Survived\") == \"0\").select(\"Fare\").collect()\n",
        "\n",
        "# Extract fares from Row objects\n",
        "survivors_fare = [row.Fare for row in survivors_fare]\n",
        "casualties_fare = [row.Fare for row in casualties_fare]\n",
        "\n",
        "# Prepare data for box plots\n",
        "data = [survivors_fare, casualties_fare]\n",
        "labels = ['Survivors', 'Casualties']\n",
        "\n",
        "# Create box plots\n",
        "plt.figure(figsize=(6, 4))\n",
        "plt.boxplot(data, labels=labels, patch_artist=True, showmeans=True)\n",
        "plt.xlabel('Passenger Status')\n",
        "plt.ylabel('Fare')\n",
        "plt.title('Box Plot of Fare for Survivors and Casualties')\n",
        "plt.grid(axis='y', linestyle='--', alpha=0.7)\n",
        "plt.show()\n",
        "\n",
        "# Plot histogram\n",
        "plt.figure(figsize=(6, 4))\n",
        "plt.hist(data, bins=30, edgecolor='black')\n",
        "plt.xlabel('Fare')\n",
        "plt.ylabel('Frequency')\n",
        "plt.title('Distribution of passenger Fare')\n",
        "plt.legend (labels)\n",
        "plt.grid(axis='y', linestyle='--', alpha=0.7)\n",
        "plt.show()"
      ],
      "metadata": {
        "colab": {
          "base_uri": "https://localhost:8080/",
          "height": 803
        },
        "outputId": "e677ea14-5bbc-4ccf-98a0-dd5ed88c55a8",
        "id": "oJpkcbj3-W1X"
      },
      "execution_count": 144,
      "outputs": [
        {
          "output_type": "display_data",
          "data": {
            "text/plain": [
              "<Figure size 600x400 with 1 Axes>"
            ],
            "image/png": "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\n"
          },
          "metadata": {}
        },
        {
          "output_type": "display_data",
          "data": {
            "text/plain": [
              "<Figure size 600x400 with 1 Axes>"
            ],
            "image/png": "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\n"
          },
          "metadata": {}
        }
      ]
    },
    {
      "cell_type": "markdown",
      "source": [
        "BOXPLOT:\n",
        "\n",
        "The casualties payed a lower fare then surviviors, with some outliers in both distributions. Note that there are more outliers in casualties with high fares reflecting the split in class ticket survival rate shown later.\n",
        "\n",
        "BAR PLOT:\n",
        "\n",
        "The number of casualty increases exponentially as the fare value gets closer to 0. This is expected as lower fare payers not only are the majority but also resided in the lower part of the sinking boat, thus being the first to drown."
      ],
      "metadata": {
        "id": "7w346Dld-W1Y"
      }
    },
    {
      "cell_type": "code",
      "source": [
        "import matplotlib.pyplot as plt\n",
        "from pyspark.sql.functions import col\n",
        "\n",
        "# Group the DataFrame by \"Pclass\" and count the number of passengers in each class\n",
        "class_counts = df_clean.groupBy(\"Pclass\").count().orderBy(\"Pclass\")\n",
        "\n",
        "# Convert DataFrame to Pandas for plotting\n",
        "class_counts_pd = class_counts.toPandas()\n",
        "\n",
        "# Plot bar plot\n",
        "plt.figure(figsize=(8, 6))\n",
        "plt.bar(class_counts_pd[\"Pclass\"], class_counts_pd[\"count\"], color='skyblue', edgecolor='black')\n",
        "plt.xlabel('Passenger Class')\n",
        "plt.ylabel('Count')\n",
        "plt.title('Distribution of Passenger Class')\n",
        "plt.xticks(class_counts_pd[\"Pclass\"])\n",
        "plt.grid(axis='y', linestyle='--', alpha=0.7)\n",
        "plt.show()"
      ],
      "metadata": {
        "colab": {
          "base_uri": "https://localhost:8080/",
          "height": 564
        },
        "outputId": "030ec0d5-ad76-4295-f210-a9ad03003bae",
        "id": "7XsXJdvB-W1Y"
      },
      "execution_count": 113,
      "outputs": [
        {
          "output_type": "display_data",
          "data": {
            "text/plain": [
              "<Figure size 800x600 with 1 Axes>"
            ],
            "image/png": "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\n"
          },
          "metadata": {}
        }
      ]
    },
    {
      "cell_type": "code",
      "source": [
        "# Filter by Class\n",
        "class_1 = df_clean.filter(col(\"Pclass\") == \"1\")\n",
        "class_2 = df_clean.filter(col(\"Pclass\") == \"2\")\n",
        "class_3 = df_clean.filter(col(\"Pclass\") == \"3\")\n",
        "\n",
        "# Calculate the total number of passengers by class\n",
        "total_class_1 = class_1.count()\n",
        "total_class_2 = class_2.count()\n",
        "total_class_3 = class_3.count()\n",
        "\n",
        "# Calculate the number of survivors by class\n",
        "class_1_survivors = class_1.filter(col(\"Survived\") == \"1\").count()\n",
        "class_2_survivors = class_2.filter(col(\"Survived\") == \"1\").count()\n",
        "class_3_survivors = class_3.filter(col(\"Survived\") == \"1\").count()\n",
        "\n",
        "print(\"Percentage of survivors among 1st Class: {:.2f}%\".format((class_1_survivors / total_class_1) * 100))\n",
        "print(\"Percentage of survivors among 2nd Class: {:.2f}%\".format((class_2_survivors / total_class_2) * 100))\n",
        "print(\"Percentage of survivors among 3rd Class: {:.2f}%\".format((class_3_survivors / total_class_3) * 100))"
      ],
      "metadata": {
        "outputId": "917b62b9-e6c2-4713-d8e2-767a8359d8fd",
        "colab": {
          "base_uri": "https://localhost:8080/"
        },
        "id": "CypuKc0y-W1Y"
      },
      "execution_count": 114,
      "outputs": [
        {
          "output_type": "stream",
          "name": "stdout",
          "text": [
            "Percentage of survivors among 1st Class: 62.62%\n",
            "Percentage of survivors among 2nd Class: 47.28%\n",
            "Percentage of survivors among 3rd Class: 24.24%\n"
          ]
        },
{
      "cell_type": "markdown",
      "source": [
        "MODELLING\n",
          "FROM CLASS NOTEBOOKS - Most relevant ones: Classification with Spark + Telco Churn Data Analysis\n",
          "\n",
          "Data augmentation to make sure the two classes are the same size to avoid that the model migth guess the majority class by default?\n",
          "Correlation between features and the target?\n",
          "Test, train & Validation Set?\n",
          "Class models with pipelines - LogisticRegression, Linear SVM, MultilayerPerceptronClassifier, DecisionTreeClassifier, RandomForestClassifier\n",
          "Eval models - BinaryClassificationEvaluator\n",
          "Predict - Compute and plot the confusion matrix:\n",
        ],
      "metadata": {
        "id": "model"
      }
    }
      ]
    }
  ]
}
